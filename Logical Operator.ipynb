{
 "cells": [
  {
   "cell_type": "code",
   "execution_count": 1,
   "id": "befee43d",
   "metadata": {},
   "outputs": [],
   "source": [
    "#logical operator (and(&) , or(|))"
   ]
  },
  {
   "cell_type": "code",
   "execution_count": 2,
   "id": "3a691f4a",
   "metadata": {},
   "outputs": [
    {
     "name": "stdout",
     "output_type": "stream",
     "text": [
      "False\n",
      "True\n",
      "False\n",
      "False\n"
     ]
    }
   ],
   "source": [
    "# and(&)\n",
    "\n",
    "print(True and False)\n",
    "print(True and True)\n",
    "print(False and True)\n",
    "print(False and False)"
   ]
  },
  {
   "cell_type": "code",
   "execution_count": 3,
   "id": "2f2f39fc",
   "metadata": {},
   "outputs": [
    {
     "name": "stdout",
     "output_type": "stream",
     "text": [
      "True\n",
      "True\n",
      "True\n",
      "False\n"
     ]
    }
   ],
   "source": [
    "# or (|)\n",
    "\n",
    "print(True or False)\n",
    "print(True or True)\n",
    "print(False or True)\n",
    "print(False or False)\n"
   ]
  },
  {
   "cell_type": "code",
   "execution_count": 5,
   "id": "b9aad5dd",
   "metadata": {},
   "outputs": [
    {
     "name": "stdout",
     "output_type": "stream",
     "text": [
      "Enter marks=44\n",
      "Enter marks=55\n",
      "Enter marks=66\n",
      "Total= 165\n",
      "percentage= 55.0\n",
      "Grade= C\n"
     ]
    }
   ],
   "source": [
    "# calculate percentage\n",
    "\n",
    "phy = int(input('Enter marks='))\n",
    "chem = int(input('Enter marks='))\n",
    "Math = int(input('Enter marks='))\n",
    "\n",
    "if phy>=32 and chem>=32 and Math>=32:\n",
    "    total = phy + chem + Math\n",
    "    per = total/3\n",
    "    \n",
    "    if per>80 or per==80:\n",
    "        grade = 'A'\n",
    "    elif per>=60:\n",
    "        grade = 'B'\n",
    "    elif per>=45:\n",
    "        grade = 'C'\n",
    "    else:\n",
    "        grade = 'F'\n",
    "        \n",
    "print('Total=',total)\n",
    "print('percentage=',per)\n",
    "print('Grade=',grade)\n",
    "    "
   ]
  },
  {
   "cell_type": "code",
   "execution_count": null,
   "id": "3561fff4",
   "metadata": {},
   "outputs": [],
   "source": []
  }
 ],
 "metadata": {
  "kernelspec": {
   "display_name": "Python 3 (ipykernel)",
   "language": "python",
   "name": "python3"
  },
  "language_info": {
   "codemirror_mode": {
    "name": "ipython",
    "version": 3
   },
   "file_extension": ".py",
   "mimetype": "text/x-python",
   "name": "python",
   "nbconvert_exporter": "python",
   "pygments_lexer": "ipython3",
   "version": "3.10.9"
  }
 },
 "nbformat": 4,
 "nbformat_minor": 5
}
